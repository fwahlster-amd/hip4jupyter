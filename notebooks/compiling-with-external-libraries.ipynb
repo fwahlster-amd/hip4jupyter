{
 "cells": [
  {
   "cell_type": "markdown",
   "metadata": {
    "id": "4_qHS_1yjcrK"
   },
   "source": [
    "# Compiling HIP with OpenCV\n",
    "In this notebook we will show how to compile HIP C++ code with the OpenCV library, which we will use to load an image and save it back to disk after applying a blur kernel.\n"
   ]
  },
  {
   "cell_type": "markdown",
   "metadata": {
    "id": "2XyG-R3nk1p6"
   },
   "source": [
    "## Setup"
   ]
  },
  {
   "cell_type": "markdown",
   "metadata": {
    "id": "J2iU1zyrK4FF"
   },
   "source": [
    "Install and load the hip4jupyter extension, which will allow us to run HIP C++ code using cell magics. See [the documentation](https://nvcc4jupyter.readthedocs.io/en/latest/usage.html) for details."
   ]
  },
  {
   "cell_type": "code",
   "execution_count": 13,
   "metadata": {
    "colab": {
     "base_uri": "https://localhost:8080/"
    },
    "id": "K1pfzEEsjlFD",
    "outputId": "f14a4888-9215-4280-e723-1a3e1477135d"
   },
   "outputs": [
    {
     "name": "stdout",
     "output_type": "stream",
     "text": [
      "Requirement already satisfied: hip4jupyter in /opt/dev-venv/lib/python3.12/site-packages (1.2.1)\n",
      "\n",
      "\u001b[1m[\u001b[0m\u001b[34;49mnotice\u001b[0m\u001b[1;39;49m]\u001b[0m\u001b[39;49m A new release of pip is available: \u001b[0m\u001b[31;49m25.0.1\u001b[0m\u001b[39;49m -> \u001b[0m\u001b[32;49m25.1.1\u001b[0m\n",
      "\u001b[1m[\u001b[0m\u001b[34;49mnotice\u001b[0m\u001b[1;39;49m]\u001b[0m\u001b[39;49m To update, run: \u001b[0m\u001b[32;49mpip install --upgrade pip\u001b[0m\n"
     ]
    }
   ],
   "source": [
    "!pip install hip4jupyter"
   ]
  },
  {
   "cell_type": "code",
   "execution_count": 14,
   "metadata": {
    "colab": {
     "base_uri": "https://localhost:8080/"
    },
    "id": "w-4m2tFtlt_M",
    "outputId": "9118eb6e-63ee-426f-a618-fb35d9750b81"
   },
   "outputs": [
    {
     "name": "stdout",
     "output_type": "stream",
     "text": [
      "Source files will be saved in \"/tmp/tmpcsjztj6o\".\n"
     ]
    }
   ],
   "source": [
    "#%load_ext hip4jupyter\n",
    "%reload_ext hip4jupyter"
   ]
  },
  {
   "cell_type": "markdown",
   "metadata": {},
   "source": [
    "Make sure OpenCV is installed."
   ]
  },
  {
   "cell_type": "code",
   "execution_count": 3,
   "metadata": {},
   "outputs": [],
   "source": [
    "%%capture\n",
    "!apt update && apt install -y libopencv-dev"
   ]
  },
  {
   "cell_type": "markdown",
   "metadata": {
    "id": "hBZR7kZkk4UV"
   },
   "source": [
    "## Code"
   ]
  },
  {
   "cell_type": "markdown",
   "metadata": {
    "id": "JppQ-78qLYjP"
   },
   "source": [
    "### Imports"
   ]
  },
  {
   "cell_type": "code",
   "execution_count": 15,
   "metadata": {
    "id": "vYyG7Gd0vJJ0"
   },
   "outputs": [],
   "source": [
    "import os\n",
    "import subprocess\n",
    "from pathlib import Path\n",
    "from IPython.display import Image"
   ]
  },
  {
   "cell_type": "markdown",
   "metadata": {
    "id": "Zhs1emaLLemz"
   },
   "source": [
    "### Download an image"
   ]
  },
  {
   "cell_type": "markdown",
   "metadata": {
    "id": "1vyu_yKStyKG"
   },
   "source": [
    "Get a random image of IMG_SIZE x IMG_SIZE pixels."
   ]
  },
  {
   "cell_type": "code",
   "execution_count": 5,
   "metadata": {
    "colab": {
     "base_uri": "https://localhost:8080/",
     "height": 417
    },
    "id": "T3yN-g8dvZ4P",
    "outputId": "d5b8602c-6a1a-4de0-9fbf-8b72ef9f6071"
   },
   "outputs": [
    {
     "data": {
      "image/jpeg": "[encoded data removed]",
      "text/plain": [
       "<IPython.core.display.Image object>"
      ]
     },
     "execution_count": 5,
     "metadata": {},
     "output_type": "execute_result"
    }
   ],
   "source": [
    "IMG_SIZE = 400\n",
    "os.environ[\"IMG_SIZE\"] = str(IMG_SIZE)\n",
    "IMG_FNAME = \"image.jpg\"\n",
    "os.environ[\"IMG_FNAME\"] = IMG_FNAME\n",
    "\n",
    "!wget -O $IMG_FNAME https://picsum.photos/$IMG_SIZE.jpg &> /dev/null\n",
    "Image(filename=IMG_FNAME)"
   ]
  },
  {
   "cell_type": "markdown",
   "metadata": {
    "id": "BeOimvKtNluI"
   },
   "source": [
    "### Compiler arguments\n",
    "These are options that you need to pass to the compiler in order to link with the OpenCV library."
   ]
  },
  {
   "cell_type": "code",
   "execution_count": 16,
   "metadata": {},
   "outputs": [
    {
     "name": "stdout",
     "output_type": "stream",
     "text": [
      "-I/usr/include/opencv4 -I/usr/include/opencv4 -lopencv_stitching -lopencv_alphamat -lopencv_aruco -lopencv_barcode -lopencv_bgsegm -lopencv_bioinspired -lopencv_ccalib -lopencv_cvv -lopencv_dnn_objdetect -lopencv_dnn_superres -lopencv_dpm -lopencv_face -lopencv_freetype -lopencv_fuzzy -lopencv_hdf -lopencv_hfs -lopencv_img_hash -lopencv_intensity_transform -lopencv_line_descriptor -lopencv_mcc -lopencv_quality -lopencv_rapid -lopencv_reg -lopencv_rgbd -lopencv_saliency -lopencv_shape -lopencv_stereo -lopencv_structured_light -lopencv_phase_unwrapping -lopencv_superres -lopencv_optflow -lopencv_surface_matching -lopencv_tracking -lopencv_highgui -lopencv_datasets -lopencv_text -lopencv_plot -lopencv_ml -lopencv_videostab -lopencv_videoio -lopencv_viz -lopencv_wechat_qrcode -lopencv_ximgproc -lopencv_video -lopencv_xobjdetect -lopencv_objdetect -lopencv_calib3d -lopencv_imgcodecs -lopencv_features2d -lopencv_dnn -lopencv_flann -lopencv_xphoto -lopencv_photo -lopencv_imgproc -lopencv_core\n"
     ]
    }
   ],
   "source": [
    "# make sure the file containing the necessary compilation flags for the opencv library\n",
    "# exists in a directory in the PKG_CONFIG_PATH environment variable\n",
    "for path in Path('/usr/lib').rglob('opencv4.pc'):\n",
    "    os.environ[\"PKG_CONFIG_PATH\"] = os.path.dirname(str(path))\n",
    "    break\n",
    "\n",
    "# get the compilation flags required to compile our CUDA C++ code with opencv\n",
    "COMPILER_ARGS = subprocess.check_output([\"pkg-config\", \"--cflags\", \"--libs\", \"opencv4\"]).decode().strip()\n",
    "COMPILER_ARGS = f\"-I/usr/include/opencv4 {COMPILER_ARGS}\"\n",
    "print(COMPILER_ARGS)"
   ]
  },
  {
   "cell_type": "markdown",
   "metadata": {
    "id": "SAQ1x3_JNvhT"
   },
   "source": [
    "### Blurring the image"
   ]
  },
  {
   "cell_type": "code",
   "execution_count": 17,
   "metadata": {},
   "outputs": [
    {
     "name": "stdout",
     "output_type": "stream",
     "text": [
      "Saving \"/tmp/tmpcsjztj6o/shared/error_handling.h\" to /tmp/tmpcsjztj6o\n"
     ]
    }
   ],
   "source": [
    "%%cuda_group_save -n \"error_handling.h\" -g \"shared\"\n",
    "\n",
    "// error checking macro\n",
    "#define cudaCheckErrors(msg) \\\n",
    "    do { \\\n",
    "        hipError_t __err = hipGetLastError(); \\\n",
    "        if (__err != hipSuccess) { \\\n",
    "            fprintf(stderr, \"Fatal error: %s (%s at %s:%d)\\n\", \\\n",
    "                msg, hipGetErrorString(__err), \\\n",
    "                __FILE__, __LINE__); \\\n",
    "            fprintf(stderr, \"*** FAILED - ABORTING\\n\"); \\\n",
    "            exit(1); \\\n",
    "        } \\\n",
    "    } while (0)"
   ]
  },
  {
   "cell_type": "code",
   "execution_count": 18,
   "metadata": {},
   "outputs": [
    {
     "name": "stdout",
     "output_type": "stream",
     "text": [
      "Saving \"/tmp/tmpcsjztj6o/shared/blur_kernel.h\" to /tmp/tmpcsjztj6o\n"
     ]
    }
   ],
   "source": [
    "%%cuda_group_save -n \"blur_kernel.h\" -g \"shared\"\n",
    "\n",
    "#define BLUR_SIZE 5\n",
    "\n",
    "// kernel taken from https://stackoverflow.com/a/65973288\n",
    "__global__ void blurKernel(\n",
    "    unsigned char* in,\n",
    "    unsigned char* out,\n",
    "    int width,\n",
    "    int height,\n",
    "    int num_channel,\n",
    "    int channel\n",
    ") {\n",
    "\n",
    "    int col = blockIdx.x * blockDim.x + threadIdx.x;\n",
    "    int row = blockIdx.y * blockDim.y + threadIdx.y;\n",
    "\n",
    "    if(col < width && row < height) {\n",
    "        int pixVal = 0;\n",
    "        int pixels = 0;\n",
    "        for(int blurRow = -BLUR_SIZE; blurRow < BLUR_SIZE + 1; ++blurRow) {\n",
    "            for(int blurCol = -BLUR_SIZE; blurCol < BLUR_SIZE + 1; ++blurCol) {\n",
    "                int curRow = row + blurRow;\n",
    "                int curCol = col + blurCol;\n",
    "                if(curRow > -1 && curRow < height && curCol > -1 && curCol < width) {\n",
    "                    pixVal += in[curRow * width * num_channel + curCol * num_channel + channel];\n",
    "                    pixels++;\n",
    "                }\n",
    "            }\n",
    "        }\n",
    "        out[row * width * num_channel + col * num_channel + channel] = (unsigned char)(pixVal/pixels);\n",
    "    }\n",
    "}"
   ]
  },
  {
   "cell_type": "code",
   "execution_count": 19,
   "metadata": {
    "colab": {
     "base_uri": "https://localhost:8080/"
    },
    "id": "hhkNS3HJlFlC",
    "outputId": "bb0b3fad-f132-4a26-e247-32bf5e29c1a4"
   },
   "outputs": [
    {
     "name": "stdout",
     "output_type": "stream",
     "text": [
      "Saving \"/tmp/tmpcsjztj6o/6bf4c657-88bb-44bd-bbec-e69147683536/single_file.cu\" to /tmp/tmpcsjztj6o\n"
     ]
    },
    {
     "name": "stdout",
     "output_type": "stream",
     "text": [
      "/tmp/tmpcsjztj6o/6bf4c657-88bb-44bd-bbec-e69147683536/single_file.cu:7:10: fatal error: 'error_handling.h' file not found\n",
      "    7 | #include \"error_handling.h\"\n",
      "      |          ^~~~~~~~~~~~~~~~~~\n",
      "1 error generated when compiling for gfx906.\n",
      "failed to execute:/opt/rocm/lib/llvm/bin/clang++  -O3 --driver-mode=g++ -O3 --hip-link  -I/usr/include/opencv4 -I/usr/include/opencv4 -lopencv_stitching -lopencv_alphamat -lopencv_aruco -lopencv_barcode -lopencv_bgsegm -lopencv_bioinspired -lopencv_ccalib -lopencv_cvv -lopencv_dnn_objdetect -lopencv_dnn_superres -lopencv_dpm -lopencv_face -lopencv_freetype -lopencv_fuzzy -lopencv_hdf -lopencv_hfs -lopencv_img_hash -lopencv_intensity_transform -lopencv_line_descriptor -lopencv_mcc -lopencv_quality -lopencv_rapid -lopencv_reg -lopencv_rgbd -lopencv_saliency -lopencv_shape -lopencv_stereo -lopencv_structured_light -lopencv_phase_unwrapping -lopencv_superres -lopencv_optflow -lopencv_surface_matching -lopencv_tracking -lopencv_highgui -lopencv_datasets -lopencv_text -lopencv_plot -lopencv_ml -lopencv_videostab -lopencv_videoio -lopencv_viz -lopencv_wechat_qrcode -lopencv_ximgproc -lopencv_video -lopencv_xobjdetect -lopencv_objdetect -lopencv_calib3d -lopencv_imgcodecs -lopencv_features2d -lopencv_dnn -lopencv_flann -lopencv_xphoto -lopencv_photo -lopencv_imgproc -lopencv_core -I/tmp/tmpcsjztj6o/shared,/tmp/tmpcsjztj6o/6bf4c657-88bb-44bd-bbec-e69147683536 -x hip /tmp/tmpcsjztj6o/6bf4c657-88bb-44bd-bbec-e69147683536/single_file.cu /tmp/tmpcsjztj6o/shared/blur_kernel.h /tmp/tmpcsjztj6o/shared/error_handling.h -o \"/tmp/tmpcsjztj6o/6bf4c657-88bb-44bd-bbec-e69147683536/hip_exec.out\"\n",
      "\n"
     ]
    }
   ],
   "source": [
    "%%cuda --compiler-args \"$COMPILER_ARGS\"\n",
    "\n",
    "#include <iostream>\n",
    "\n",
    "#include <opencv2/core.hpp>\n",
    "#include <opencv2/imgcodecs.hpp>\n",
    "\n",
    "#include \"error_handling.h\"\n",
    "#include \"blur_kernel.h\"\n",
    "\n",
    "#define R 0\n",
    "#define G 1\n",
    "#define B 2\n",
    "\n",
    "int main()\n",
    "{\n",
    "    std::string image_path = cv::samples::findFile(\"image.jpg\");\n",
    "    cv::Mat img = imread(image_path, cv::IMREAD_COLOR);\n",
    "    if(img.empty())\n",
    "    {\n",
    "        std::cerr << \"Could not read the image: \" << image_path << std::endl;\n",
    "        return 1;\n",
    "    }\n",
    "\n",
    "    // image shape\n",
    "    int width = img.cols;\n",
    "    int height = img.rows;\n",
    "    int n_channels = 3; // hard-coded RGB processing\n",
    "\n",
    "    // we will read and write directly into the data array of the OpenCV Matrix\n",
    "    unsigned char *host_image_input = img.data;\n",
    "    unsigned char *host_image_output = img.data;\n",
    "\n",
    "    // allocate memory for device arrays\n",
    "    unsigned char* dev_image_input = NULL;\n",
    "    unsigned char* dev_image_output = NULL;\n",
    "    hipMalloc(\n",
    "        (void**)&dev_image_input,\n",
    "        sizeof(unsigned char) * height * width * n_channels\n",
    "    );\n",
    "    hipMalloc(\n",
    "        (void**)&dev_image_output,\n",
    "        sizeof(unsigned char) * height * width * n_channels\n",
    "    );\n",
    "    hipCheckErrors(\"hipMalloc failure\");\n",
    "\n",
    "    // transfer data from host to device for processing on GPU\n",
    "    hipMemcpy(\n",
    "        dev_image_input,\n",
    "        host_image_input,\n",
    "        sizeof(unsigned char) * height * width * n_channels,\n",
    "        hipMemcpyHostToDevice\n",
    "    );\n",
    "    hipCheckErrors(\"cudaMemcpy H2D failure\");\n",
    "\n",
    "    // run a blur kernel on each channel\n",
    "    dim3 blockSize(16, 16, 1);\n",
    "    dim3 gridSize(width/blockSize.x, height/blockSize.y, 1);\n",
    "    blurKernel<<<gridSize, blockSize>>>(dev_image_input, dev_image_output, width, height, n_channels, R);\n",
    "    blurKernel<<<gridSize, blockSize>>>(dev_image_input, dev_image_output, width, height, n_channels, G);\n",
    "    blurKernel<<<gridSize, blockSize>>>(dev_image_input, dev_image_output, width, height, n_channels, B);\n",
    "\n",
    "    hipDeviceSynchronize();\n",
    "    hipCheckErrors(\"kernel failure\");\n",
    "\n",
    "    // copy results back to host\n",
    "    hipMemcpy(\n",
    "        host_image_output,\n",
    "        dev_image_output,\n",
    "        sizeof(unsigned char) * height * width * n_channels,\n",
    "        cudaMemcpyDeviceToHost\n",
    "    );\n",
    "    hipCheckErrors(\"cudaMemcpy D2H failure\");\n",
    "\n",
    "    hipFree(dev_image_input);\n",
    "    hipFree(dev_image_output);\n",
    "\n",
    "    // save the blurred image to disk\n",
    "    cv::imwrite(\"image_blurred.jpg\", img);\n",
    "    return 0;\n",
    "}"
   ]
  },
  {
   "cell_type": "code",
   "execution_count": null,
   "metadata": {
    "colab": {
     "base_uri": "https://localhost:8080/",
     "height": 417
    },
    "id": "Bn9X_cm4rALH",
    "outputId": "ead0c3b5-013b-45a3-f91a-7866d33b2404"
   },
   "outputs": [],
   "source": [
    "Image(filename=\"image_blurred.jpg\")"
   ]
  },
  {
   "cell_type": "code",
   "execution_count": null,
   "metadata": {},
   "outputs": [],
   "source": []
  }
 ],
 "metadata": {
  "accelerator": "GPU",
  "colab": {
   "gpuType": "T4",
   "provenance": [],
   "toc_visible": true
  },
  "kaggle": {
   "accelerator": "nvidiaTeslaT4",
   "dataSources": [],
   "dockerImageVersionId": 30716,
   "isGpuEnabled": true,
   "isInternetEnabled": true,
   "language": "python",
   "sourceType": "notebook"
  },
  "kernelspec": {
   "display_name": "dev-venv",
   "language": "python",
   "name": "python3"
  },
  "language_info": {
   "codemirror_mode": {
    "name": "ipython",
    "version": 3
   },
   "file_extension": ".py",
   "mimetype": "text/x-python",
   "name": "python",
   "nbconvert_exporter": "python",
   "pygments_lexer": "ipython3",
   "version": "3.12.10"
  }
 },
 "nbformat": 4,
 "nbformat_minor": 4
}
